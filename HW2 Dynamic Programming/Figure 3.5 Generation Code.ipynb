{
 "cells": [
  {
   "cell_type": "markdown",
   "source": [
    "Import Necessary Libraries"
   ],
   "metadata": {
    "collapsed": false
   },
   "id": "285f05311f1d7130"
  },
  {
   "cell_type": "code",
   "outputs": [],
   "source": [
    "import numpy as np\n",
    "import matplotlib\n",
    "import matplotlib.pyplot as plt\n",
    "from matplotlib.table import Table\n",
    "\n",
    "# Use a non-interactive backend for matplotlib\n",
    "matplotlib.use('Agg')"
   ],
   "metadata": {
    "collapsed": false,
    "ExecuteTime": {
     "end_time": "2024-10-28T03:05:06.389316Z",
     "start_time": "2024-10-28T03:05:06.380184Z"
    }
   },
   "id": "88d0ed7e62e0c520",
   "execution_count": 26
  },
  {
   "cell_type": "markdown",
   "source": [
    "Define the GridWorld Environment\n",
    "We define the GridWorld class, which represents the environment in which the agent operates."
   ],
   "metadata": {
    "collapsed": false
   },
   "id": "bda929eeaf937ae9"
  },
  {
   "cell_type": "code",
   "outputs": [],
   "source": [
    "class GridWorld:\n",
    "    def __init__(self, world_size=5, discount=0.9):\n",
    "        # Initialize the grid world environment\n",
    "        self.world_size = world_size\n",
    "        self.discount = discount\n",
    "        self.A_POS = [0, 1]\n",
    "        self.A_PRIME_POS = [4, 1]\n",
    "        self.B_POS = [0, 3]\n",
    "        self.B_PRIME_POS = [2, 3]\n",
    "        \n",
    "        # Define possible actions: Left, Up, Right, Down\n",
    "        self.ACTIONS = [np.array([0, -1]),\n",
    "                        np.array([-1, 0]),\n",
    "                        np.array([0, 1]),\n",
    "                        np.array([1, 0])]\n",
    "        \n",
    "        # Generate all possible states in the grid\n",
    "        self.state_space = [\n",
    "            [i, j] for i in range(self.world_size) for j in range(self.world_size)\n",
    "        ]\n",
    "    \n",
    "    def step(self, state, action):        \n",
    "        # Special rules for positions A and B\n",
    "        if state == self.A_POS:\n",
    "            return self.A_PRIME_POS, 10\n",
    "        if state == self.B_POS:\n",
    "            return self.B_PRIME_POS, 5\n",
    "        \n",
    "        # Calculate the next state\n",
    "        next_state = (np.array(state) + action).tolist()\n",
    "        x, y = next_state\n",
    "        \n",
    "        # Check for boundary conditions\n",
    "        if x < 0 or x >= self.world_size or y < 0 or y >= self.world_size:\n",
    "            reward = -1.0\n",
    "            next_state = state  # If out of bounds, stay in the same state\n",
    "        else:\n",
    "            reward = 0\n",
    "        return next_state, reward\n",
    "    \n",
    "    def get_possible_actions(self):\n",
    "        # Return the list of possible actions\n",
    "        return self.ACTIONS\n",
    "    \n",
    "    def get_all_states(self):\n",
    "        # Return the list of all possible states\n",
    "        return self.state_space\n"
   ],
   "metadata": {
    "collapsed": false,
    "ExecuteTime": {
     "end_time": "2024-10-28T03:05:06.410215Z",
     "start_time": "2024-10-28T03:05:06.394326Z"
    }
   },
   "id": "7c50dadf48184cb3",
   "execution_count": 27
  },
  {
   "cell_type": "markdown",
   "source": [
    "Define the Value Iteration Agent\n",
    "We define the ValueIterationAgent class, which performs the value iteration algorithm on the environment."
   ],
   "metadata": {
    "collapsed": false
   },
   "id": "8eb59c491f1ab6ad"
  },
  {
   "cell_type": "code",
   "outputs": [],
   "source": [
    "class ValueIterationAgent:\n",
    "    def __init__(self, env, threshold=1e-4):\n",
    "        # Initialize the agent with the environment and convergence threshold\n",
    "        self.env = env\n",
    "        self.threshold = threshold\n",
    "        self.values = np.zeros((env.world_size, env.world_size))\n",
    "    \n",
    "    def value_iteration(self):\n",
    "        # Perform the value iteration algorithm\n",
    "        iteration = 0\n",
    "        while True:\n",
    "            delta = 0\n",
    "            new_values = np.copy(self.values)\n",
    "            for state in self.env.get_all_states():\n",
    "                i, j = state\n",
    "                max_value = self.compute_state_value(state)\n",
    "                new_values[i, j] = max_value\n",
    "                delta = max(delta, abs(self.values[i, j] - max_value))\n",
    "            self.values = new_values\n",
    "            iteration += 1\n",
    "            if self.has_converged(delta):\n",
    "                break\n",
    "        return self.values\n",
    "    \n",
    "    def compute_state_value(self, state):\n",
    "        # Compute the maximum value for a given state over all possible actions\n",
    "        value_list = []\n",
    "        for action in self.env.get_possible_actions():\n",
    "            (next_i, next_j), reward = self.env.step(state, action)\n",
    "            value = reward + self.env.discount * self.values[next_i, next_j]\n",
    "            value_list.append(value)\n",
    "        max_value = max(value_list)\n",
    "        return max_value\n",
    "    \n",
    "    def has_converged(self, delta):\n",
    "        # Check if the value iteration has converged\n",
    "        return delta < self.threshold\n",
    "    \n",
    "    def get_optimal_values(self):\n",
    "        # Return the optimal values after convergence\n",
    "        return self.values\n"
   ],
   "metadata": {
    "collapsed": false,
    "ExecuteTime": {
     "end_time": "2024-10-28T03:05:06.420883Z",
     "start_time": "2024-10-28T03:05:06.412224Z"
    }
   },
   "id": "d0548206d311773d",
   "execution_count": 28
  },
  {
   "cell_type": "markdown",
   "source": [
    "Define the Visualizer\n",
    "We define the Visualizer class, which handles the visualization of the value function."
   ],
   "metadata": {
    "collapsed": false
   },
   "id": "51520597e9e1edda"
  },
  {
   "cell_type": "code",
   "outputs": [],
   "source": [
    "class Visualizer:\n",
    "    def draw_image(values, filename='value_iteration_result.png'):\n",
    "        # Visualize the value function as a table\n",
    "        \n",
    "        fig, ax = plt.subplots()\n",
    "        ax.set_axis_off()\n",
    "        tb = Table(ax, bbox=[0, 0, 1, 1])\n",
    "        \n",
    "        nrows, ncols = values.shape\n",
    "        width, height = 1.0 / ncols, 1.0 / nrows\n",
    "        \n",
    "        # Add cells with the values\n",
    "        for (i, j), val in np.ndenumerate(values):\n",
    "            tb.add_cell(i, j, width, height, text=val,\n",
    "                        loc='center', facecolor='white')\n",
    "        \n",
    "        # Add row and column labels\n",
    "        for i in range(len(values)):\n",
    "            tb.add_cell(i, -1, width, height, text=i + 1, loc='right',\n",
    "                        edgecolor='none', facecolor='none')\n",
    "            tb.add_cell(-1, i, width, height / 2, text=i + 1, loc='center',\n",
    "                        edgecolor='none', facecolor='none')\n",
    "        \n",
    "        ax.add_table(tb)\n",
    "        plt.savefig(filename)\n",
    "        plt.close(fig)"
   ],
   "metadata": {
    "collapsed": false,
    "ExecuteTime": {
     "end_time": "2024-10-28T03:05:06.431186Z",
     "start_time": "2024-10-28T03:05:06.422888Z"
    }
   },
   "id": "e0960538a5fb58d",
   "execution_count": 29
  },
  {
   "cell_type": "markdown",
   "source": [
    "Main Execution Block\n",
    "We define the main function to tie everything together."
   ],
   "metadata": {
    "collapsed": false
   },
   "id": "91bac32a17f27472"
  },
  {
   "cell_type": "code",
   "outputs": [],
   "source": [
    "def main():\n",
    "    # Initialize the environment\n",
    "    env = GridWorld()\n",
    "    \n",
    "    # Initialize the agent and perform value iteration\n",
    "    agent = ValueIterationAgent(env)\n",
    "    optimal_values = agent.value_iteration()\n",
    "    \n",
    "    # Visualize the optimal values\n",
    "    Visualizer.draw_image(np.round(optimal_values, decimals=1), 'figure_3_5.png')\n",
    "\n",
    "main()"
   ],
   "metadata": {
    "collapsed": false,
    "ExecuteTime": {
     "end_time": "2024-10-28T03:05:06.518462Z",
     "start_time": "2024-10-28T03:05:06.433192Z"
    }
   },
   "id": "66d6b9e4271a9302",
   "execution_count": 30
  }
 ],
 "metadata": {
  "kernelspec": {
   "display_name": "Python 3",
   "language": "python",
   "name": "python3"
  },
  "language_info": {
   "codemirror_mode": {
    "name": "ipython",
    "version": 2
   },
   "file_extension": ".py",
   "mimetype": "text/x-python",
   "name": "python",
   "nbconvert_exporter": "python",
   "pygments_lexer": "ipython2",
   "version": "2.7.6"
  }
 },
 "nbformat": 4,
 "nbformat_minor": 5
}
