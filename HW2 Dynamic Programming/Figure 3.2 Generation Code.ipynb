{
 "cells": [
  {
   "cell_type": "markdown",
   "source": [
    "Importing the necessary libraries"
   ],
   "metadata": {
    "collapsed": false
   },
   "id": "84297e30121b5926"
  },
  {
   "cell_type": "code",
   "outputs": [],
   "source": [
    "import numpy as np\n",
    "import matplotlib.pyplot as plt\n",
    "from matplotlib.table import Table"
   ],
   "metadata": {
    "collapsed": false,
    "ExecuteTime": {
     "end_time": "2024-10-14T06:18:25.216122Z",
     "start_time": "2024-10-14T06:18:23.308938Z"
    }
   },
   "id": "163c4641c0eb51d5",
   "execution_count": 1
  },
  {
   "cell_type": "markdown",
   "source": [
    "Defining the GridWorld class which represents our environment."
   ],
   "metadata": {
    "collapsed": false
   },
   "id": "d3ca4aa697c198af"
  },
  {
   "cell_type": "code",
   "outputs": [],
   "source": [
    "class GridWorld:\n",
    "    def __init__(self, world_size=5, discount=0.9):\n",
    "        self.world_size = world_size      # Size of the grid world\n",
    "        self.discount = discount          # Discount factor for future rewards\n",
    "        self.A_pos = [0, 1]               # Position of special state A\n",
    "        self.A_prime_pos = [4, 1]         # Transition state for A\n",
    "        self.B_pos = [0, 3]               # Position of special state B\n",
    "        self.B_prime_pos = [2, 3]         # Transition state for B\n",
    "        self.actions = [                  # Possible actions: left, up, right, down\n",
    "            np.array([0, -1]),            # Left\n",
    "            np.array([-1, 0]),            # Up\n",
    "            np.array([0, 1]),             # Right\n",
    "            np.array([1, 0])              # Down\n",
    "        ]\n",
    "        self.action_prob = 0.25           # Probability for each action under a uniform random policy\n",
    "\n",
    "    def step(self, state, action):\n",
    "        # Handle special states A and B\n",
    "        if state == self.A_pos:\n",
    "            return self.A_prime_pos, 10   # Move to A' with a reward of 10\n",
    "        if state == self.B_pos:\n",
    "            return self.B_prime_pos, 5    # Move to B' with a reward of 5\n",
    "\n",
    "        # Calculate the next state\n",
    "        next_state = (np.array(state) + action).tolist()\n",
    "        x, y = next_state\n",
    "\n",
    "        # Check for boundary conditions\n",
    "        if x < 0 or x >= self.world_size or y < 0 or y >= self.world_size:\n",
    "            return state, -1.0            # If out of bounds, stay in the same state with a reward of -1\n",
    "        return next_state, 0              # Otherwise, move to the next state with no reward"
   ],
   "metadata": {
    "collapsed": false,
    "ExecuteTime": {
     "end_time": "2024-10-14T06:18:25.241892Z",
     "start_time": "2024-10-14T06:18:25.220207Z"
    }
   },
   "id": "1db7ec3f15ef4c59",
   "execution_count": 2
  },
  {
   "cell_type": "markdown",
   "source": [
    "We define a function compute_state_value that calculates the value of a given state based on the current value function."
   ],
   "metadata": {
    "collapsed": false
   },
   "id": "9865c17cc59a13d7"
  },
  {
   "cell_type": "code",
   "outputs": [],
   "source": [
    "def compute_state_value(state, value, grid_world):\n",
    "    v = 0\n",
    "    # Iterate over all possible actions\n",
    "    for action in grid_world.actions:\n",
    "        next_state, reward = grid_world.step(state, action)\n",
    "        next_i, next_j = next_state\n",
    "        # Update the value based on the Bellman equation\n",
    "        v += grid_world.action_prob * (\n",
    "            reward + grid_world.discount * value[next_i, next_j]\n",
    "        )\n",
    "    return v"
   ],
   "metadata": {
    "collapsed": false,
    "ExecuteTime": {
     "end_time": "2024-10-14T06:18:25.267058Z",
     "start_time": "2024-10-14T06:18:25.245436Z"
    }
   },
   "id": "57ef4f1adf95cc65",
   "execution_count": 3
  },
  {
   "cell_type": "markdown",
   "source": [
    "The value_iteration function performs the value iteration algorithm, updating the value function until it converges within a specified threshold."
   ],
   "metadata": {
    "collapsed": false
   },
   "id": "d6e5f294831e55d7"
  },
  {
   "cell_type": "code",
   "outputs": [],
   "source": [
    "def value_iteration(grid_world, threshold=1e-4):\n",
    "    # Initialize the value function with zeros\n",
    "    value = np.zeros((grid_world.world_size, grid_world.world_size))\n",
    "    while True:\n",
    "        new_value = np.zeros_like(value)\n",
    "        # Loop over each state in the grid\n",
    "        for i in range(grid_world.world_size):\n",
    "            for j in range(grid_world.world_size):\n",
    "                state = [i, j]\n",
    "                # Compute the new value for the current state\n",
    "                new_value[i, j] = compute_state_value(state, value, grid_world)\n",
    "        # Check for convergence\n",
    "        if np.max(np.abs(value - new_value)) < threshold:\n",
    "            break\n",
    "        value = new_value\n",
    "    return value"
   ],
   "metadata": {
    "collapsed": false,
    "ExecuteTime": {
     "end_time": "2024-10-14T06:18:25.290127Z",
     "start_time": "2024-10-14T06:18:25.269075Z"
    }
   },
   "id": "df13f8b681ae827f",
   "execution_count": 4
  },
  {
   "cell_type": "markdown",
   "source": [
    "The draw_image function visualizes the final value function as a table and displays it."
   ],
   "metadata": {
    "collapsed": false
   },
   "id": "7027224f353f4103"
  },
  {
   "cell_type": "code",
   "outputs": [],
   "source": [
    "def draw_image(value_function, filename='my_figure_3_2.png'):\n",
    "    fig, ax = plt.subplots()\n",
    "    ax.set_axis_off()\n",
    "    tb = Table(ax, bbox=[0, 0, 1, 1])\n",
    "\n",
    "    nrows, ncols = value_function.shape\n",
    "    width, height = 1.0 / ncols, 1.0 / nrows\n",
    "\n",
    "    # Add cells to the table\n",
    "    for (i, j), val in np.ndenumerate(value_function):\n",
    "        tb.add_cell(\n",
    "            i, j, width, height,\n",
    "            text=round(val, 1),       # Round the value for display\n",
    "            loc='center',\n",
    "            facecolor='white'\n",
    "        )\n",
    "\n",
    "    ax.add_table(tb)\n",
    "    plt.savefig(filename)\n",
    "    plt.show()\n",
    "    plt.close()"
   ],
   "metadata": {
    "collapsed": false,
    "ExecuteTime": {
     "end_time": "2024-10-14T06:18:25.313336Z",
     "start_time": "2024-10-14T06:18:25.298141Z"
    }
   },
   "id": "af50bea2f85b95c0",
   "execution_count": 5
  },
  {
   "cell_type": "markdown",
   "source": [
    "We instantiate the GridWorld environment, perform value iteration, and visualize the resulting value function."
   ],
   "metadata": {
    "collapsed": false
   },
   "id": "55826f79d003db11"
  },
  {
   "cell_type": "code",
   "outputs": [
    {
     "data": {
      "text/plain": "<Figure size 640x480 with 1 Axes>",
      "image/png": "[encoded data removed]"
     },
     "metadata": {},
     "output_type": "display_data"
    }
   ],
   "source": [
    "grid_world = GridWorld(world_size=5, discount=0.9)\n",
    "value = value_iteration(grid_world)\n",
    "draw_image(value)"
   ],
   "metadata": {
    "collapsed": false,
    "ExecuteTime": {
     "end_time": "2024-10-14T06:18:25.802183Z",
     "start_time": "2024-10-14T06:18:25.317355Z"
    }
   },
   "id": "a31b8f18049028db",
   "execution_count": 6
  }
 ],
 "metadata": {
  "kernelspec": {
   "display_name": "Python 3",
   "language": "python",
   "name": "python3"
  },
  "language_info": {
   "codemirror_mode": {
    "name": "ipython",
    "version": 2
   },
   "file_extension": ".py",
   "mimetype": "text/x-python",
   "name": "python",
   "nbconvert_exporter": "python",
   "pygments_lexer": "ipython2",
   "version": "2.7.6"
  }
 },
 "nbformat": 4,
 "nbformat_minor": 5
}
