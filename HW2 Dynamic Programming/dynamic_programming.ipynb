{
 "cells": [
  {
   "cell_type": "code",
   "execution_count": 1,
   "metadata": {},
   "outputs": [],
   "source": [
    "import numpy as np\n",
    "\n",
    "num_of_states = 3\n",
    "gamma = 0.9\n",
    "\n",
    "def create_distribution(n, temp=1.0):\n",
    "    logits = np.random.randn(n)\n",
    "    exp_logits = np.exp(logits / temp)\n",
    "    prob = exp_logits / exp_logits.sum() \n",
    "    return prob\n",
    "\n",
    "\n",
    "def create_MRP():\n",
    "    P = np.zeros((num_of_states, num_of_states))\n",
    "    for s in range(num_of_states):\n",
    "        P[s, :] = create_distribution(num_of_states)\n",
    "    r = np.random.randn(num_of_states, 1)\n",
    "    return P, r\n",
    "\n",
    "def policy_evaluation(P, r, gamma):\n",
    "    v = None \n",
    "    return v"
   ]
  },
  {
   "cell_type": "code",
   "execution_count": 2,
   "metadata": {},
   "outputs": [],
   "source": [
    "num_of_actions = 2\n",
    "\n",
    "def create_MDP():\n",
    "    P = np.zeros((num_of_states, num_of_actions, num_of_states))\n",
    "    for s in range(num_of_states):\n",
    "        for a in range(num_of_actions):\n",
    "            P[s, a, :] = create_distribution(num_of_states)\n",
    "    r = np.random.randn(num_of_states, num_of_actions)\n",
    "    return P, r\n",
    "\n",
    "def initial_policy():\n",
    "    pi = np.zeros((num_of_states, num_of_actions))\n",
    "    for s in range(num_of_states):\n",
    "        pi[s, :] = create_distribution(num_of_actions)\n",
    "    return pi\n",
    "\n",
    "def policy_iteration(P, r, gamma):\n",
    "    pi = None\n",
    "    return pi\n",
    "\n",
    "P, r = create_MDP()\n",
    "policy_iteration(P, r, gamma)"
   ]
  }
 ],
 "metadata": {
  "kernelspec": {
   "display_name": "tools",
   "language": "python",
   "name": "python3"
  },
  "language_info": {
   "codemirror_mode": {
    "name": "ipython",
    "version": 3
   },
   "file_extension": ".py",
   "mimetype": "text/x-python",
   "name": "python",
   "nbconvert_exporter": "python",
   "pygments_lexer": "ipython3",
   "version": "3.12.3"
  }
 },
 "nbformat": 4,
 "nbformat_minor": 2
}
