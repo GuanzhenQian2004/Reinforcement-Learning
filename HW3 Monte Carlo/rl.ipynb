{
 "cells": [
  {
   "cell_type": "code",
   "execution_count": 1,
   "metadata": {
    "ExecuteTime": {
     "end_time": "2024-11-04T01:20:55.269032Z",
     "start_time": "2024-11-04T01:20:54.814958Z"
    }
   },
   "outputs": [
    {
     "ename": "TypeError",
     "evalue": "create_distribution() missing 1 required positional argument: 'n'",
     "output_type": "error",
     "traceback": [
      "\u001B[1;31m---------------------------------------------------------------------------\u001B[0m",
      "\u001B[1;31mTypeError\u001B[0m                                 Traceback (most recent call last)",
      "Cell \u001B[1;32mIn[1], line 63\u001B[0m\n\u001B[0;32m     61\u001B[0m \u001B[38;5;66;03m# for run in np.range(1e3):\u001B[39;00m\n\u001B[0;32m     62\u001B[0m agent \u001B[38;5;241m=\u001B[39m Agent()\n\u001B[1;32m---> 63\u001B[0m env \u001B[38;5;241m=\u001B[39m \u001B[43mEnvironment\u001B[49m\u001B[43m(\u001B[49m\u001B[43m)\u001B[49m\n\u001B[0;32m     64\u001B[0m state \u001B[38;5;241m=\u001B[39m env\u001B[38;5;241m.\u001B[39mreset()\n\u001B[0;32m     65\u001B[0m done \u001B[38;5;241m=\u001B[39m \u001B[38;5;28;01mFalse\u001B[39;00m\n",
      "Cell \u001B[1;32mIn[1], line 29\u001B[0m, in \u001B[0;36mEnvironment.__init__\u001B[1;34m(self)\u001B[0m\n\u001B[0;32m     27\u001B[0m \u001B[38;5;28mself\u001B[39m\u001B[38;5;241m.\u001B[39mP \u001B[38;5;241m=\u001B[39m P\n\u001B[0;32m     28\u001B[0m \u001B[38;5;28mself\u001B[39m\u001B[38;5;241m.\u001B[39mr \u001B[38;5;241m=\u001B[39m r\n\u001B[1;32m---> 29\u001B[0m \u001B[38;5;28mself\u001B[39m\u001B[38;5;241m.\u001B[39mp0 \u001B[38;5;241m=\u001B[39m \u001B[43mcreate_distribution\u001B[49m\u001B[43m(\u001B[49m\u001B[43m)\u001B[49m\n",
      "\u001B[1;31mTypeError\u001B[0m: create_distribution() missing 1 required positional argument: 'n'"
     ]
    }
   ],
   "source": [
    "import numpy as np\n",
    "\n",
    "num_of_states = 3\n",
    "num_of_actions = 2\n",
    "\n",
    "def create_distribution(n, temp=1.0):\n",
    "    logits = np.random.randn(n)\n",
    "    exp_logits = np.exp(logits / temp)\n",
    "    prob = exp_logits / exp_logits.sum() \n",
    "    return prob\n",
    "\n",
    "def create_MDP():\n",
    "    P = np.zeros((num_of_states, num_of_actions, num_of_states))\n",
    "    for s in range(num_of_states):\n",
    "        for a in range(num_of_actions):\n",
    "            P[s, a, :] = create_distribution(num_of_states)\n",
    "    terminal_state = num_of_states - 1\n",
    "    P[terminal_state, a, :] = 0\n",
    "    P[terminal_state, a, terminal_state] = 1\n",
    "    r = np.random.randn(num_of_states, num_of_actions)\n",
    "    r[terminal_state, :] = 0\n",
    "    return P, r\n",
    "\n",
    "class Environment:\n",
    "    def __init__(self):\n",
    "        P, r = create_MDP()\n",
    "        self.P = P\n",
    "        self.r = r\n",
    "        self.p0 = create_distribution()\n",
    "\n",
    "    def reset(self):\n",
    "        state = np.random.sample(np.range(num_of_states - 1), self.p0)\n",
    "        return state\n",
    "\n",
    "    def step(self, action):\n",
    "        reward = self.r[self.state, action]\n",
    "        next_state = np.random.sample(np.range(num_of_states), self.P[state, action, :])\n",
    "        done = next_state == num_of_states - 1\n",
    "        self.state = next_state\n",
    "        return reward, next_state, done\n",
    "\n",
    "\n",
    "class Agent:\n",
    "    def __init__(self, gamma=1):\n",
    "        self.gamma = gamma\n",
    "        self.v = np.zeros(num_of_states)\n",
    "\n",
    "    def act(self, state):\n",
    "        action = np.random.sample(np.range(num_of_actions))\n",
    "        return action\n",
    "    \n",
    "    def learn(self, state, reward, next_state, done):\n",
    "        if not done:\n",
    "            # store data\n",
    "            pass\n",
    "        else:\n",
    "            # retrive data\n",
    "            # do MC\n",
    "            pass\n",
    "\n",
    "# for run in np.range(1e3):\n",
    "agent = Agent()\n",
    "env = Environment()\n",
    "state = env.reset()\n",
    "done = False\n",
    "for t in np.arange(1e4):\n",
    "    if done:\n",
    "        state = env.reset()\n",
    "    action = agent.act(state)\n",
    "    reward, next_state, done = env.step(action)\n",
    "    agent.learn(state, reward, next_state, done)\n",
    "\n",
    "\n"
   ]
  }
 ],
 "metadata": {
  "kernelspec": {
   "display_name": "tools",
   "language": "python",
   "name": "python3"
  },
  "language_info": {
   "codemirror_mode": {
    "name": "ipython",
    "version": 3
   },
   "file_extension": ".py",
   "mimetype": "text/x-python",
   "name": "python",
   "nbconvert_exporter": "python",
   "pygments_lexer": "ipython3",
   "version": "3.12.3"
  }
 },
 "nbformat": 4,
 "nbformat_minor": 2
}
